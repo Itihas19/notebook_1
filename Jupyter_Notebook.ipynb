{
 "cells": [
  {
   "cell_type": "markdown",
   "metadata": {},
   "source": [
    "<center>\n",
    "    <img src=\"https://cf-courses-data.s3.us.cloud-object-storage.appdomain.cloud/IBMDeveloperSkillsNetwork-DS0105EN-SkillsNetwork/labs/Module2/images/SN_web_lightmode.png\" width=\"300\" alt=\"cognitiveclass.ai logo\">\n",
    "</center>\n"
   ]
  },
  {
   "cell_type": "markdown",
   "metadata": {},
   "source": [
    "#### Add your code below following the instructions given in the course\n"
   ]
  },
  {
   "cell_type": "code",
   "execution_count": 1,
   "metadata": {
    "tags": []
   },
   "outputs": [
    {
     "name": "stdout",
     "output_type": "stream",
     "text": [
      "hello world\n"
     ]
    }
   ],
   "source": [
    "print(\"hello world\")"
   ]
  },
  {
   "cell_type": "markdown",
   "metadata": {},
   "source": [
    "This is a markdown\n",
    "\n"
   ]
  },
  {
   "cell_type": "markdown",
   "metadata": {},
   "source": [
    "Jupyter_Notebook"
   ]
  },
  {
   "cell_type": "markdown",
   "metadata": {},
   "source": [
    "This is an introduction "
   ]
  },
  {
   "cell_type": "markdown",
   "metadata": {
    "tags": []
   },
   "source": [
    "Data science Libraries\n",
    "1.Numpy\n",
    "2.Pandas\n",
    "3.Matplotlib\n",
    "4.SciPy\n",
    "5.Keras\n",
    "6.Tensorflow\n",
    "7.Seaborn\n"
   ]
  },
  {
   "cell_type": "markdown",
   "metadata": {},
   "source": [
    "Data Science Languages\n",
    "1. Python\n",
    "2. R\n",
    "3. Julia\n",
    "4. Scala\n",
    "5. SQL\n",
    "6. MATLAB"
   ]
  },
  {
   "cell_type": "markdown",
   "metadata": {},
   "source": [
    "| Tool                | Description                                           |\n",
    "|---------------------|-------------------------------------------------------|\n",
    "| Python              | General-purpose programming language for data science |\n",
    "| R                   | Language and environment for statistical computing     |\n",
    "| Julia               | High-performance language for scientific computing     |\n",
    "| SQL                 | Language for managing and manipulating databases       |\n",
    "| Scala               | General-purpose language for big data processing       |\n",
    "| Java                | Widely used language for enterprise-level applications |\n",
    "| SAS                 | Software suite for advanced analytics and data management |\n",
    "| MATLAB              | Language and environment for numerical computing       |\n",
    "| NumPy               | Fundamental package for scientific computing           |\n",
    "| Pandas              | Data manipulation and analysis library                 |\n",
    "| Scikit-learn        | Machine learning library                              |\n",
    "| TensorFlow          | Deep learning framework                               |\n",
    "| Keras               | High-level neural networks API                         |\n",
    "| PyTorch             | Deep learning framework                               |\n",
    "| Matplotlib          | Plotting library for creating visualizations           |\n",
    "| Seaborn             | Statistical data visualization library                 |\n",
    "| Spark               | Distributed data processing framework                  |\n",
    "| Tableau             | Data visualization and business intelligence tool      |\n",
    "| KNIME               | Open-source data analytics platform                    |\n",
    "| Jupyter Notebook    | Interactive computing environment for data science     |\n",
    "| Dask                | Parallel computing library                            |\n"
   ]
  },
  {
   "cell_type": "markdown",
   "metadata": {},
   "source": [
    "Arithmetic Equations\n",
    "a=b+c\n",
    "z=x*y\n",
    "p=q-m"
   ]
  },
  {
   "cell_type": "code",
   "execution_count": 7,
   "metadata": {
    "tags": []
   },
   "outputs": [
    {
     "name": "stdout",
     "output_type": "stream",
     "text": [
      "3\n",
      "6\n"
     ]
    }
   ],
   "source": [
    "a=1\n",
    "b=2\n",
    "c=a+b\n",
    "print(c)\n",
    "x=2\n",
    "y=3\n",
    "z=x*y\n",
    "print(z)"
   ]
  },
  {
   "cell_type": "code",
   "execution_count": 9,
   "metadata": {
    "tags": []
   },
   "outputs": [
    {
     "name": "stdin",
     "output_type": "stream",
     "text": [
      "Enter mins 60\n"
     ]
    },
    {
     "name": "stdout",
     "output_type": "stream",
     "text": [
      "1.0\n"
     ]
    }
   ],
   "source": [
    "mins=int(input(\"Enter mins\"))\n",
    "hours=mins/60\n",
    "print(hours)"
   ]
  },
  {
   "cell_type": "code",
   "execution_count": null,
   "metadata": {},
   "outputs": [],
   "source": []
  }
 ],
 "metadata": {
  "kernelspec": {
   "display_name": "Python",
   "language": "python",
   "name": "conda-env-python-py"
  },
  "language_info": {
   "codemirror_mode": {
    "name": "ipython",
    "version": 3
   },
   "file_extension": ".py",
   "mimetype": "text/x-python",
   "name": "python",
   "nbconvert_exporter": "python",
   "pygments_lexer": "ipython3",
   "version": "3.7.12"
  }
 },
 "nbformat": 4,
 "nbformat_minor": 4
}
